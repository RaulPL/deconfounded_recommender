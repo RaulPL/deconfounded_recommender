{
 "cells": [
  {
   "cell_type": "code",
   "execution_count": 1,
   "metadata": {},
   "outputs": [],
   "source": [
    "import numpy as np\n",
    "import pandas as pd\n",
    "import arviz as az\n",
    "import matplotlib.pyplot as plt\n",
    "from collections import Counter\n",
    "\n",
    "import jax\n",
    "import jax.numpy as jnp\n",
    "from jax import random\n",
    "from jax.scipy.special import expit\n",
    "\n",
    "import numpyro\n",
    "import numpyro.distributions as dist\n",
    "from numpyro.distributions import constraints\n",
    "from numpyro.infer import SVI, Trace_ELBO, Predictive, NUTS, MCMC\n",
    "\n",
    "rng_np = np.random.default_rng(101)\n",
    "\n",
    "n_factors_exposure = 20\n",
    "n_factors_pmf = 10\n",
    "K = 5\n",
    "\n",
    "numpyro.set_platform('cpu')\n",
    "numpyro.set_host_device_count(n=5)"
   ]
  },
  {
   "cell_type": "markdown",
   "metadata": {},
   "source": [
    "# MovieLens data\n"
   ]
  },
  {
   "cell_type": "code",
   "execution_count": 2,
   "metadata": {
    "collapsed": false,
    "jupyter": {
     "outputs_hidden": false
    },
    "pycharm": {
     "name": "#%%\n"
    }
   },
   "outputs": [
    {
     "name": "stdout",
     "output_type": "stream",
     "text": [
      "(100000, 3)\n"
     ]
    },
    {
     "data": {
      "text/html": [
       "<div>\n",
       "<style scoped>\n",
       "    .dataframe tbody tr th:only-of-type {\n",
       "        vertical-align: middle;\n",
       "    }\n",
       "\n",
       "    .dataframe tbody tr th {\n",
       "        vertical-align: top;\n",
       "    }\n",
       "\n",
       "    .dataframe thead th {\n",
       "        text-align: right;\n",
       "    }\n",
       "</style>\n",
       "<table border=\"1\" class=\"dataframe\">\n",
       "  <thead>\n",
       "    <tr style=\"text-align: right;\">\n",
       "      <th></th>\n",
       "      <th>userId</th>\n",
       "      <th>movieId</th>\n",
       "      <th>rating</th>\n",
       "    </tr>\n",
       "  </thead>\n",
       "  <tbody>\n",
       "    <tr>\n",
       "      <th>0</th>\n",
       "      <td>196</td>\n",
       "      <td>242</td>\n",
       "      <td>3</td>\n",
       "    </tr>\n",
       "    <tr>\n",
       "      <th>1</th>\n",
       "      <td>186</td>\n",
       "      <td>302</td>\n",
       "      <td>3</td>\n",
       "    </tr>\n",
       "    <tr>\n",
       "      <th>2</th>\n",
       "      <td>22</td>\n",
       "      <td>377</td>\n",
       "      <td>1</td>\n",
       "    </tr>\n",
       "  </tbody>\n",
       "</table>\n",
       "</div>"
      ],
      "text/plain": [
       "   userId  movieId  rating\n",
       "0     196      242       3\n",
       "1     186      302       3\n",
       "2      22      377       1"
      ]
     },
     "execution_count": 2,
     "metadata": {},
     "output_type": "execute_result"
    }
   ],
   "source": [
    "names = ['userId', 'movieId', 'rating', 'timestamp']\n",
    "df_ratings = pd.read_csv('./ml-100k/u.data', sep='\\t', names=names)\n",
    "df_ratings = df_ratings.drop('timestamp', axis=1)\n",
    "print(df_ratings.shape)\n",
    "df_ratings.head(3)\n"
   ]
  },
  {
   "cell_type": "markdown",
   "metadata": {},
   "source": [
    "train-test split"
   ]
  },
  {
   "cell_type": "code",
   "execution_count": 3,
   "metadata": {
    "collapsed": false,
    "jupyter": {
     "outputs_hidden": false
    },
    "pycharm": {
     "name": "#%%\n"
    }
   },
   "outputs": [
    {
     "name": "stdout",
     "output_type": "stream",
     "text": [
      "(943, 1682) (943, 1682)\n"
     ]
    }
   ],
   "source": [
    "# Taken from https://docs.pymc.io/notebooks/probabilistic_matrix_factorization.html\n",
    "\n",
    "# Define a function for splitting train/test data.\n",
    "def split_train_test(data, percent_test, rng):\n",
    "    \"\"\"Split the data into train/test sets.\"\"\"\n",
    "    n, m = data.shape             # # users, # movies\n",
    "    N = n * m                     # # cells in matrix\n",
    "    # Prepare train/test ndarrays.\n",
    "    train = data.copy()\n",
    "    test = np.ones(data.shape) * np.nan\n",
    "    # Draw random sample of training data to use for testing.\n",
    "    tosample = np.where(~np.isnan(train))       # ignore nan values in data\n",
    "    idx_pairs = list(zip(tosample[0], tosample[1]))   # tuples of row/col index pairs\n",
    "    test_size = int(len(idx_pairs) * percent_test)  # use a % of data as test set\n",
    "    train_size = len(idx_pairs) - test_size   # and remainder for training\n",
    "    indices = np.arange(len(idx_pairs))         # indices of index pairs\n",
    "    sample = rng.choice(indices, replace=False, size=test_size)\n",
    "    # Transfer random sample from train set to test set.\n",
    "    for idx in sample:\n",
    "        idx_pair = idx_pairs[idx]\n",
    "        test[idx_pair] = train[idx_pair]  # transfer to test set\n",
    "        train[idx_pair] = np.nan          # remove from train set\n",
    "    # Verify everything worked properly\n",
    "    assert(train_size == N-np.isnan(train).sum())\n",
    "    assert(test_size == N-np.isnan(test).sum())\n",
    "    # Return train set and test set\n",
    "    return train, test\n",
    "\n",
    "\n",
    "all_users = np.sort(df_ratings.userId.unique())\n",
    "all_movies = np.sort(df_ratings.movieId.unique())\n",
    "df_dense_data = df_ratings.pivot_table(index='userId', columns='movieId', values='rating')\n",
    "assert all(df_dense_data.columns == all_movies)\n",
    "assert all(df_dense_data.index == all_users)\n",
    "\n",
    "n_users, n_items = all_users.shape[0], all_movies.shape[0]\n",
    "train, test = split_train_test(df_dense_data.values, 0.2, rng=rng_np)\n",
    "del df_dense_data\n",
    "print(train.shape, test.shape)"
   ]
  },
  {
   "cell_type": "markdown",
   "metadata": {},
   "source": [
    "# Exposure model"
   ]
  },
  {
   "cell_type": "code",
   "execution_count": 4,
   "metadata": {
    "collapsed": false,
    "jupyter": {
     "outputs_hidden": false
    },
    "pycharm": {
     "name": "#%%\n"
    }
   },
   "outputs": [
    {
     "name": "stdout",
     "output_type": "stream",
     "text": [
      "(943, 1682)\n",
      "0.050437354 80000 80000\n"
     ]
    }
   ],
   "source": [
    "exposure_train = jnp.nan_to_num(train, nan=0)\n",
    "exposure_train = jnp.where(exposure_train > 0, 1, 0)\n",
    "print(exposure_train.shape)\n",
    "print(exposure_train.mean(), exposure_train.sum(), jnp.count_nonzero(exposure_train))"
   ]
  },
  {
   "cell_type": "code",
   "execution_count": 5,
   "metadata": {},
   "outputs": [
    {
     "data": {
      "image/png": "[encoded data removed]",
      "text/plain": [
       "<Figure size 792x288 with 2 Axes>"
      ]
     },
     "metadata": {
      "needs_background": "light"
     },
     "output_type": "display_data"
    }
   ],
   "source": [
    "fig, axs = plt.subplots(ncols=2, figsize=(11, 4), sharey=True)\n",
    "_, bins_user, _ = axs[0].hist(exposure_train.sum(axis=1))\n",
    "axs[0].set(title='Distribution of user views');\n",
    "_, bins_movie, _ = axs[1].hist(exposure_train.sum(axis=0))\n",
    "axs[1].set(title='Distribution of movies views');"
   ]
  },
  {
   "cell_type": "code",
   "execution_count": 6,
   "metadata": {},
   "outputs": [
    {
     "name": "stdout",
     "output_type": "stream",
     "text": [
      "(943, 1682)\n",
      "0.10843464 171991 147510 25\n"
     ]
    }
   ],
   "source": [
    "def hpf_model(n_users: int, n_items: int, n_factors: int, exposure=None):\n",
    "    \"\"\"hierarchical Poisson factorization model.\"\"\"\n",
    "    plate_users = numpyro.plate('plate_users', n_users, dim=-1)\n",
    "    plate_items = numpyro.plate('plate_items', n_items, dim=-1)\n",
    "    c = 5  # 10\n",
    "    r = 1  # 3\n",
    "    with plate_users:\n",
    "        activity = numpyro.sample('activity', dist.Gamma(c, r))\n",
    "        preferences = numpyro.sample('preferences', dist.Gamma(0.3, activity), sample_shape=(n_factors,))\n",
    "    with plate_items:\n",
    "        popularity = numpyro.sample('popularity', dist.Gamma(c, r))\n",
    "        attributes = numpyro.sample('attributes', dist.Gamma(0.3, popularity), sample_shape=(n_factors,))\n",
    "    rates = numpyro.deterministic('rates', preferences.T @ attributes)\n",
    "    obs = numpyro.sample('obs', dist.Poisson(rates), obs=exposure)\n",
    "    return obs\n",
    "\n",
    "\n",
    "\n",
    "def hpf_guide(n_users: int, n_items: int, n_factors: int, exposure):\n",
    "    \"\"\"hierarchical Poisson factorization guide.\"\"\"\n",
    "    plate_users = numpyro.plate('plate_users', n_users, dim=-1)\n",
    "    plate_items = numpyro.plate('plate_items', n_items, dim=-1)\n",
    "    with plate_items:\n",
    "        popularity_concentration = numpyro.param(\n",
    "            'popularity_concentration',\n",
    "            5 * jnp.ones(shape=(n_items,)),\n",
    "            constraint=constraints.positive\n",
    "        )\n",
    "        popularity_rate = numpyro.param(\n",
    "            'popularity_rate',\n",
    "            1 * jnp.ones(shape=(n_items,)),\n",
    "            constraint=constraints.positive\n",
    "        )\n",
    "        popularity = numpyro.sample(\n",
    "            'popularity', dist.Gamma(popularity_concentration, popularity_rate)\n",
    "        )\n",
    "        attributes_concentration = numpyro.param(\n",
    "            'attributes_concentration',\n",
    "            0.3 * jnp.ones(shape=(n_items,)),\n",
    "            constraint=constraints.positive\n",
    "        )\n",
    "        attributes = numpyro.sample(\n",
    "            'attributes', \n",
    "            dist.Gamma(attributes_concentration, popularity), \n",
    "            sample_shape=(n_factors,)\n",
    "        )\n",
    "    with plate_users:\n",
    "        activity_concentration = numpyro.param(\n",
    "            'activity_concentration',\n",
    "            5 * jnp.ones(shape=(n_users,)),\n",
    "            constraint=constraints.positive\n",
    "        )\n",
    "        activity_rate = numpyro.param(\n",
    "            'activity_rate',\n",
    "            1 * jnp.ones(shape=(n_users,)),\n",
    "            constraint=constraints.positive\n",
    "        )\n",
    "        activity = numpyro.sample(\n",
    "            'activity', dist.Gamma(activity_concentration, activity_rate)\n",
    "        )\n",
    "        preferences_concentration = numpyro.param(\n",
    "            'preferences_concentration',\n",
    "            0.3 * jnp.ones(shape=(n_users,)),\n",
    "            constraint=constraints.positive\n",
    "        )\n",
    "        preferences = numpyro.sample(\n",
    "            'preferences', \n",
    "            dist.Gamma(preferences_concentration, activity), \n",
    "            sample_shape=(n_factors,)\n",
    "        )\n",
    "\n",
    "\n",
    "with numpyro.handlers.seed(rng_seed=1234):\n",
    "    prior_sample = hpf_model(n_users, n_items, n_factors_exposure)\n",
    "    print(prior_sample.shape)\n",
    "    print(prior_sample.mean(), prior_sample.sum(), jnp.count_nonzero(prior_sample), prior_sample.max())\n",
    "    hpf_guide(n_users, n_items, n_factors_exposure, exposure_train)\n"
   ]
  },
  {
   "cell_type": "code",
   "execution_count": 7,
   "metadata": {},
   "outputs": [
    {
     "name": "stdout",
     "output_type": "stream",
     "text": [
      "final loss: 275021.9375\n"
     ]
    },
    {
     "data": {
      "image/png": "[encoded data removed]",
      "text/plain": [
       "<Figure size 432x288 with 1 Axes>"
      ]
     },
     "metadata": {
      "needs_background": "light"
     },
     "output_type": "display_data"
    }
   ],
   "source": [
    "# SVI\n",
    "n_iters = 130\n",
    "step_size = 0.05\n",
    "optimizer = numpyro.optim.Adam(step_size=step_size)\n",
    "svi = SVI(hpf_model, hpf_guide, optimizer, loss=Trace_ELBO(num_particles=1))\n",
    "\n",
    "init_state = svi.init(\n",
    "    random.PRNGKey(55), \n",
    "    n_users, n_items, n_factors_exposure, exposure_train\n",
    ")\n",
    "\n",
    "state, losses = jax.lax.scan(\n",
    "    lambda state, i: svi.update(state, n_users, n_items, n_factors_exposure, exposure_train), \n",
    "    init_state, jnp.arange(n_iters)\n",
    ")\n",
    "print(f'final loss: {losses[-1]}')\n",
    "svi_params = svi.get_params(svi_state=state)\n",
    "plt.plot(losses);"
   ]
  },
  {
   "cell_type": "code",
   "execution_count": 8,
   "metadata": {},
   "outputs": [],
   "source": [
    "# MCMC\n",
    "# rng_key = random.PRNGKey(1234)\n",
    "# nuts_kernel = NUTS(hpf_model)\n",
    "# mcmc = MCMC(nuts_kernel, num_samples=500, num_warmup=1000, num_chains=2)\n",
    "# mcmc.run(rng_key, n_users, n_items, n_factors_exposure, exposure_train)\n",
    "# posterior_samples = mcmc.get_samples()\n",
    "\n",
    "# for k, v in posterior_samples.items():\n",
    "#     jnp.save(f'./exposure_samples/{k}.npy', v)\n"
   ]
  },
  {
   "cell_type": "markdown",
   "metadata": {},
   "source": [
    "Posterior predictive checks"
   ]
  },
  {
   "cell_type": "code",
   "execution_count": 13,
   "metadata": {},
   "outputs": [
    {
     "name": "stdout",
     "output_type": "stream",
     "text": [
      "(100, 943, 1682)\n"
     ]
    }
   ],
   "source": [
    "post_predictive = Predictive(\n",
    "    hpf_model, guide=hpf_guide, params=svi_params, num_samples=100,\n",
    "    return_sites=['rates']\n",
    ")\n",
    "posterior = post_predictive(\n",
    "    random.PRNGKey(90),\n",
    "    n_users, n_items, n_factors_exposure, exposure_train\n",
    ")\n",
    "rates = posterior['rates']\n",
    "print(rates.shape)\n",
    "posterior_samples = rng_np.poisson(rates)"
   ]
  },
  {
   "cell_type": "code",
   "execution_count": 15,
   "metadata": {},
   "outputs": [
    {
     "data": {
      "image/png": "[encoded data removed]",
      "text/plain": [
       "<Figure size 792x288 with 2 Axes>"
      ]
     },
     "metadata": {
      "needs_background": "light"
     },
     "output_type": "display_data"
    }
   ],
   "source": [
    "colors = [\n",
    "    '#c7e9c0','#a1d99b','#74c476','#31a354', '#006d2c',\n",
    "    '#31a354','#74c476','#a1d99b','#c7e9c0',\n",
    "]\n",
    "quantiles = np.arange(0.1, 1, 0.1)\n",
    "\n",
    "user_views_quantiles = np.quantile(posterior_samples.sum(axis=2), q=quantiles, axis=0)\n",
    "movie_views_quantiles = np.quantile(posterior_samples.sum(axis=1), q=quantiles, axis=0)\n",
    "\n",
    "\n",
    "fig, axs = plt.subplots(ncols=2, figsize=(11, 4), sharey=True)\n",
    "axs[0].hist(\n",
    "    user_views_quantiles.T, histtype='step', color=colors, linewidth=3, bins=bins_user\n",
    ")\n",
    "axs[0].set(title='Posterior distribution of user views');\n",
    "axs[1].hist(\n",
    "    movie_views_quantiles.T, histtype='step', color=colors, linewidth=3, bins=bins_movie\n",
    ")\n",
    "axs[1].set(title='Posterior distribution of movies views');"
   ]
  },
  {
   "cell_type": "markdown",
   "metadata": {},
   "source": [
    "#### TODO: \n",
    "* Measure predictive power using the median value of the rates\n",
    "* Prior predictive checks and parameter recovery\n",
    "* EDA confounders"
   ]
  },
  {
   "cell_type": "code",
   "execution_count": 19,
   "metadata": {},
   "outputs": [],
   "source": [
    "np.save(f'expected_rates.npy', rates.mean(axis=0))"
   ]
  },
  {
   "cell_type": "code",
   "execution_count": null,
   "metadata": {},
   "outputs": [],
   "source": []
  },
  {
   "cell_type": "markdown",
   "metadata": {},
   "source": [
    "# Outcome model"
   ]
  },
  {
   "cell_type": "code",
   "execution_count": null,
   "metadata": {
    "collapsed": false,
    "jupyter": {
     "outputs_hidden": false
    },
    "pycharm": {
     "name": "#%%\n"
    }
   },
   "outputs": [],
   "source": [
    "confounders = np.load('./expected_rates.npy')\n",
    "print(confounders.shape)\n",
    "train_no_nan = jnp.nan_to_num(train, nan=0)\n",
    "print(train_no_nan.shape)\n",
    "\n",
    "scaled_ratings = (train - 1) / (K - 1)\n",
    "# pd.Series(scaled_ratings.flatten()).plot.hist()\n",
    "scaled_ratings = jnp.nan_to_num(scaled_ratings, nan=0)\n",
    "print(scaled_ratings.shape)\n",
    "# scaled_ratings\n",
    "exposure_train = jnp.nan_to_num(train, nan=0)\n",
    "exposure_train = jnp.where(exposure_train > 0, 1, 0)\n",
    "print(exposure_train.shape)\n",
    "exposure_train"
   ]
  },
  {
   "cell_type": "code",
   "execution_count": null,
   "metadata": {
    "collapsed": false,
    "jupyter": {
     "outputs_hidden": false
    },
    "pycharm": {
     "name": "#%%\n"
    }
   },
   "outputs": [],
   "source": [
    "def pmf_model(exposure, confounders, ratings, n_factors: int, **kwargs):\n",
    "    n_users, n_items = exposure.shape\n",
    "    s = 0.1\n",
    "    U = numpyro.sample('U', dist.Normal(0., s), sample_shape=(n_users, n_factors))\n",
    "    V = numpyro.sample('V', dist.Normal(0., s), sample_shape=(n_items, n_factors))\n",
    "    gammas = numpyro.sample('gammas', dist.Normal(0., 1), sample_shape=(n_users, 1))\n",
    "    mean = (U @ V.T) * exposure + (gammas * confounders)\n",
    "    mean = expit(mean)\n",
    "    scale = jnp.ones_like(mean) * 0.001\n",
    "    r = numpyro.sample('R', dist.Normal(mean, scale), obs=ratings)\n",
    "    return mean\n",
    "\n",
    "\n",
    "with numpyro.handlers.seed(rng_seed=101):\n",
    "    res_model = pmf_model(exposure_train, confounders, scaled_ratings, n_factors_pmf)\n",
    "    print(res_model.shape)\n",
    "    print(res_model.min(), res_model.mean(), res_model.max())\n",
    "res_model"
   ]
  },
  {
   "cell_type": "code",
   "execution_count": null,
   "metadata": {
    "collapsed": false,
    "jupyter": {
     "outputs_hidden": false
    },
    "pycharm": {
     "name": "#%%\n"
    }
   },
   "outputs": [],
   "source": [
    "nuts_kernel = NUTS(pmf_model)\n",
    "mcmc = MCMC(nuts_kernel, num_samples=500, num_warmup=1000, num_chains=1)\n",
    "rng_key = random.PRNGKey(15)\n",
    "mcmc.run(rng_key, exposure_train, confounders, scaled_ratings, n_factors_pmf)\n",
    "posterior_samples = mcmc.get_samples()"
   ]
  },
  {
   "cell_type": "markdown",
   "metadata": {
    "pycharm": {
     "name": "#%% md\n"
    }
   },
   "source": [
    "# Results"
   ]
  },
  {
   "cell_type": "code",
   "execution_count": null,
   "metadata": {
    "collapsed": false,
    "jupyter": {
     "outputs_hidden": false
    },
    "pycharm": {
     "name": "#%%\n"
    }
   },
   "outputs": [],
   "source": [
    "# Functions taken from https://docs.pymc.io/notebooks/probabilistic_matrix_factorization.html\n",
    "\n",
    "def rmse(test_data, predicted):\n",
    "    \"\"\"Calculate root mean squared error.\n",
    "    Ignoring missing values in the test data.\n",
    "    \"\"\"\n",
    "    I = ~jnp.isnan(test_data)   # indicator for missing values\n",
    "    N = I.sum()                # number of non-missing values\n",
    "    sqerror = jnp.power(test_data - predicted, 2)\n",
    "    mse = sqerror[I].sum() / N                 # mean squared error\n",
    "    return jnp.sqrt(mse)\n",
    "\n",
    "\n",
    "def mae(test_data, predicted):\n",
    "    \"\"\"Calculate Mean Absolute Error Ignoring missing values\"\"\"\n",
    "    I = ~jnp.isnan(test_data)   # indicator for missing values\n",
    "    N = I.sum()                # number of non-missing values\n",
    "    abserror = jnp.abs(test_data - predicted)\n",
    "    mae = abserror[I].sum() / N   # mean squared error\n",
    "    return mae"
   ]
  },
  {
   "cell_type": "code",
   "execution_count": null,
   "metadata": {
    "collapsed": false,
    "jupyter": {
     "outputs_hidden": false
    },
    "pycharm": {
     "name": "#%%\n"
    }
   },
   "outputs": [],
   "source": [
    "def pmf_predict(U, V, gammas, confounders, k):\n",
    "    mean = (U @ V.T) * 1. + (gammas * confounders)\n",
    "    scaled_mean = expit(mean)\n",
    "    preds = scaled_mean * (k - 1) + 1\n",
    "    return preds\n",
    "\n",
    "# samples\n",
    "U_samples = jnp.load('./samples/U.npy')\n",
    "V_samples = jnp.load('./samples/V.npy')\n",
    "gammas_samples = jnp.load('./samples/gammas.npy')\n",
    "beta_0_samples = jnp.load('./samples/beta_0.npy')\n",
    "\n",
    "# params\n",
    "U = np.median(U_samples, axis=0)\n",
    "V = np.median(V_samples, axis=0)\n",
    "gammas = np.median(gammas_samples, axis=0)\n",
    "beta_0 = np.median(beta_0_samples, axis=0)\n",
    "\n",
    "assert n_factors_pmf == U.shape[1]\n",
    "assert n_factors_pmf == V.shape[1]\n",
    "\n",
    "preds_pmf = pmf_predict(U, V, gammas, confounders, K)\n",
    "print(preds_pmf.shape)"
   ]
  },
  {
   "cell_type": "code",
   "execution_count": null,
   "metadata": {
    "collapsed": false,
    "jupyter": {
     "outputs_hidden": false
    },
    "pycharm": {
     "name": "#%%\n"
    }
   },
   "outputs": [],
   "source": [
    "print('RMSE:', rmse(test, preds_pmf))\n",
    "print('MAE:', mae(test, preds_pmf))"
   ]
  },
  {
   "cell_type": "code",
   "execution_count": null,
   "metadata": {},
   "outputs": [],
   "source": []
  },
  {
   "cell_type": "code",
   "execution_count": null,
   "metadata": {},
   "outputs": [],
   "source": []
  }
 ],
 "metadata": {
  "kernelspec": {
   "display_name": "Python 3",
   "language": "python",
   "name": "python3"
  },
  "language_info": {
   "codemirror_mode": {
    "name": "ipython",
    "version": 3
   },
   "file_extension": ".py",
   "mimetype": "text/x-python",
   "name": "python",
   "nbconvert_exporter": "python",
   "pygments_lexer": "ipython3",
   "version": "3.8.5"
  }
 },
 "nbformat": 4,
 "nbformat_minor": 4
}
